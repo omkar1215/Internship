{
 "cells": [
  {
   "cell_type": "markdown",
   "id": "91b436d5",
   "metadata": {},
   "source": [
    "# Regular Expressions"
   ]
  },
  {
   "cell_type": "code",
   "execution_count": 79,
   "id": "6c18b3f4",
   "metadata": {},
   "outputs": [],
   "source": [
    "#Execute this first cell to import the required libraries.\n",
    "import re\n",
    "import pandas as p"
   ]
  },
  {
   "cell_type": "markdown",
   "id": "f02dfc0c",
   "metadata": {},
   "source": [
    "**Question 1**- Write a Python program to replace all occurrences of a space, comma, or dot with a \n",
    "colon.\n",
    "\n",
    "**Sample Text**- 'Python Exercises, PHP exercises.' "
   ]
  },
  {
   "cell_type": "code",
   "execution_count": 80,
   "id": "85495f65",
   "metadata": {},
   "outputs": [
    {
     "data": {
      "text/plain": [
       "'Python:Exercises::PHP:exercises:'"
      ]
     },
     "execution_count": 80,
     "metadata": {},
     "output_type": "execute_result"
    }
   ],
   "source": [
    "#Answer 1\n",
    "#Before executing this cell, execute the first cell to import the required libraries.\n",
    "Text='Python Exercises, PHP exercises.'\n",
    "\n",
    "def Function1(string):\n",
    "    pattern=r'[ ,.]'\n",
    "    result=re.sub(pattern,':',string)\n",
    "    return result\n",
    "\n",
    "Function1(Text)"
   ]
  },
  {
   "cell_type": "markdown",
   "id": "9bf9faf0",
   "metadata": {},
   "source": [
    "**Question 2**-  Create a dataframe using the dictionary below and remove everything (commas (,), !, \n",
    "XXXX, ;, etc.) from the columns except words.\n",
    "\n",
    "**Dictionary**- {'SUMMARY' : ['hello, world!', 'XXXXX test', '123four, five:; six...']}"
   ]
  },
  {
   "cell_type": "code",
   "execution_count": 81,
   "id": "11faaa19",
   "metadata": {},
   "outputs": [
    {
     "name": "stdout",
     "output_type": "stream",
     "text": [
      "         SUMMARY\n",
      "0    hello world\n",
      "1           test\n",
      "2  four five six\n"
     ]
    }
   ],
   "source": [
    "#Answer 2\n",
    "#Before executing this cell, execute the first cell to import the required libraries.\n",
    "\n",
    "TextDictionary={'SUMMARY' : ['hello, world!', 'XXXXX test', '123four, five:; six...']}\n",
    "DataF=p.DataFrame(TextDictionary)\n",
    "\n",
    "def Function2(string):\n",
    "    pattern2='[^a-z\\s]'\n",
    "    result2=re.sub(pattern2,'',string)\n",
    "    return result2\n",
    "\n",
    "DataF=DataF.applymap(Function2)\n",
    "print(DataF)"
   ]
  },
  {
   "cell_type": "markdown",
   "id": "cd51737b",
   "metadata": {},
   "source": [
    "**Question 3**- Create a function in python to find all words that are at least 4 characters long in a string. \n",
    "The use of the re.compile() method is mandatory."
   ]
  },
  {
   "cell_type": "code",
   "execution_count": 82,
   "id": "62f72bf4",
   "metadata": {},
   "outputs": [
    {
     "data": {
      "text/plain": [
       "['This',\n",
       " 'simple',\n",
       " 'sentence',\n",
       " 'with',\n",
       " 'several',\n",
       " 'long',\n",
       " 'words',\n",
       " 'assignment',\n",
       " 'Regular',\n",
       " 'Expression']"
      ]
     },
     "execution_count": 82,
     "metadata": {},
     "output_type": "execute_result"
    }
   ],
   "source": [
    "#Answer 3\n",
    "#Before executing this cell, execute the first cell to import the required libraries.\n",
    "\n",
    "Text3='This is a simple sentence with several long words to use in an assignment of Regular Expression.'\n",
    "\n",
    "def Function3(string):\n",
    "    pattern3= re.compile(r'\\b\\w{4,}\\b')\n",
    "    result3=pattern3.findall(string)\n",
    "    return result3\n",
    "\n",
    "Function3(Text3)"
   ]
  },
  {
   "cell_type": "markdown",
   "id": "08f9617d",
   "metadata": {},
   "source": [
    "**Question 4**- Create a function in python to find all three, four, and five character words in a string. \n",
    "The use of the re.compile() method is mandatory. "
   ]
  },
  {
   "cell_type": "code",
   "execution_count": 83,
   "id": "0defa796",
   "metadata": {},
   "outputs": [
    {
     "data": {
      "text/plain": [
       "['This', 'with', 'long', 'words', 'use']"
      ]
     },
     "execution_count": 83,
     "metadata": {},
     "output_type": "execute_result"
    }
   ],
   "source": [
    "#Answer 4\n",
    "#Before executing this cell, execute the first cell to import the required libraries.\n",
    "\n",
    "Text4='This is a simple sentence with several long words to use in an assignment of Regular Expression.'\n",
    "\n",
    "def Function4(string):\n",
    "    pattern4= re.compile(r'\\b\\w{3,5}\\b')\n",
    "    result4=pattern4.findall(string)\n",
    "    return result4\n",
    "\n",
    "Function4(Text4)"
   ]
  },
  {
   "cell_type": "markdown",
   "id": "e3b7a9b2",
   "metadata": {},
   "source": [
    "**Question 5**- Create a function in Python to remove the parenthesis in a list of strings. The use of the \n",
    "re.compile() method is mandatory. \n",
    "\n",
    "**Sample Text**: [\"example (.com)\", \"hr@fliprobo (.com)\", \"github (.com)\", \"Hello (Data Science World)\", \n",
    "\"Data (Scientist)\"] "
   ]
  },
  {
   "cell_type": "code",
   "execution_count": 84,
   "id": "b7cf22e8",
   "metadata": {},
   "outputs": [
    {
     "data": {
      "text/plain": [
       "['example .com',\n",
       " 'hr@fliprobo .com',\n",
       " 'github .com',\n",
       " 'Hello Data Science World',\n",
       " 'Data Scientist']"
      ]
     },
     "execution_count": 84,
     "metadata": {},
     "output_type": "execute_result"
    }
   ],
   "source": [
    "#Answer 5\n",
    "#Before executing this cell, execute the first cell to import the required libraries.\n",
    "\n",
    "TextDictionary=[\"example (.com)\", \"hr@fliprobo (.com)\", \"github (.com)\", \"Hello (Data Science World)\", \"Data (Scientist)\"]\n",
    "\n",
    "def Function5(Strings):\n",
    "    Pattern5=re.compile(r'[()]')\n",
    "    result5=[Pattern5.sub('',text) for text in Strings]\n",
    "    return result5\n",
    "\n",
    "Function5(TextDictionary)"
   ]
  },
  {
   "cell_type": "markdown",
   "id": "0e982725",
   "metadata": {},
   "source": [
    "**Question 6**- Write a python program to remove the parenthesis area from the text stored in the text \n",
    "file using Regular Expression. \n",
    "\n",
    "**Sample Text**: [\"example (.com)\", \"hr@fliprobo (.com)\", \"github (.com)\", \"Hello (Data Science World)\", \n",
    "\"Data (Scientist)\"] "
   ]
  },
  {
   "cell_type": "code",
   "execution_count": 85,
   "id": "34fc8f7b",
   "metadata": {},
   "outputs": [
    {
     "data": {
      "text/plain": [
       "['example ', 'hr@fliprobo ', 'github ', 'Hello ', 'Data ']"
      ]
     },
     "execution_count": 85,
     "metadata": {},
     "output_type": "execute_result"
    }
   ],
   "source": [
    "#Answer 6\n",
    "#Before executing this cell, execute the first cell to import the required libraries.\n",
    "\n",
    "TextDictionary6=[\"example (.com)\", \"hr@fliprobo (.com)\", \"github (.com)\", \"Hello (Data Science World)\", \"Data (Scientist)\"]\n",
    "\n",
    "def Function6(Strings):\n",
    "    Pattern6=re.compile(r'\\(.*?\\)')\n",
    "    result6=[Pattern6.sub('',text) for text in Strings]\n",
    "    return result6\n",
    "\n",
    "Function6(TextDictionary6)"
   ]
  },
  {
   "cell_type": "markdown",
   "id": "ff2fd927",
   "metadata": {},
   "source": [
    "**Question 7**- Write a regular expression in Python to split a string into uppercase letters. \n",
    "\n",
    "**Sample text**: “ImportanceOfRegularExpressionsInPython”"
   ]
  },
  {
   "cell_type": "code",
   "execution_count": 86,
   "id": "4b0a3c26",
   "metadata": {},
   "outputs": [
    {
     "data": {
      "text/plain": [
       "['Importance', 'Of', 'Regular', 'Expressions', 'In', 'Python']"
      ]
     },
     "execution_count": 86,
     "metadata": {},
     "output_type": "execute_result"
    }
   ],
   "source": [
    "#Answer 7\n",
    "#Before executing this cell, execute the first cell to import the required libraries.\n",
    "\n",
    "Text7='ImportanceOfRegularExpressionsInPython'\n",
    "\n",
    "def Function7(String):\n",
    "    result7=re.findall('[A-Z][^A-Z]*', String)\n",
    "    return result7\n",
    "\n",
    "Function7(Text7)"
   ]
  },
  {
   "cell_type": "markdown",
   "id": "e0f66019",
   "metadata": {},
   "source": [
    "**Question 8**- Create a function in python to insert spaces between words starting with numbers. \n",
    "\n",
    "**Sample Text**: “RegularExpression1IsAn2ImportantTopic3InPython\""
   ]
  },
  {
   "cell_type": "code",
   "execution_count": 87,
   "id": "a1f70948",
   "metadata": {},
   "outputs": [
    {
     "data": {
      "text/plain": [
       "'RegularExpression 1IsAn 2ImportantTopic 3InPython'"
      ]
     },
     "execution_count": 87,
     "metadata": {},
     "output_type": "execute_result"
    }
   ],
   "source": [
    "#Answer 8\n",
    "#Before executing this cell, execute the first cell to import the required libraries.\n",
    "\n",
    "Text8='RegularExpression1IsAn2ImportantTopic3InPython'\n",
    "\n",
    "def Function8(string):\n",
    "    pattern8=re.compile(r'(\\d)([A-Za-z])')\n",
    "    result8=pattern8.sub(r' \\1\\2',string)\n",
    "    return result8\n",
    "\n",
    "Function8(Text8)"
   ]
  },
  {
   "cell_type": "markdown",
   "id": "09afff27",
   "metadata": {},
   "source": [
    "**Question 9**- Create a function in python to insert spaces between words starting with capital letters \n",
    "or with numbers. \n",
    "\n",
    "**Sample Text**: “RegularExpression1IsAn2ImportantTopic3InPython\""
   ]
  },
  {
   "cell_type": "code",
   "execution_count": 88,
   "id": "eafb65c8",
   "metadata": {},
   "outputs": [
    {
     "data": {
      "text/plain": [
       "'RegularExpression 1 IsAn 2 ImportantTopic 3 InPython'"
      ]
     },
     "execution_count": 88,
     "metadata": {},
     "output_type": "execute_result"
    }
   ],
   "source": [
    "#Answer 9\n",
    "#Before executing this cell, execute the first cell to import the required libraries.\n",
    "\n",
    "Text9='RegularExpression1IsAn2ImportantTopic3InPython'\n",
    "\n",
    "def Function9(string):\n",
    "    pattern9=re.compile(r'(\\d)([A-Za-z])')\n",
    "    result9=pattern9.sub(r' \\1 \\2',string)\n",
    "    return result9\n",
    "\n",
    "Function9(Text9)"
   ]
  },
  {
   "cell_type": "markdown",
   "id": "e10b408d",
   "metadata": {},
   "source": [
    "**Question 10**- Use the github link below to read the data and create a dataframe. After creating the \n",
    "dataframe extract the first 6 letters of each country and store in the dataframe under a new column \n",
    "called first_five_letters. \n",
    "\n",
    "**Github Link** - https://raw.githubusercontent.com/dsrscientist/DSData/master/happiness_score_dataset.csv \n"
   ]
  },
  {
   "cell_type": "code",
   "execution_count": 92,
   "id": "7fdc82fb",
   "metadata": {},
   "outputs": [
    {
     "name": "stdout",
     "output_type": "stream",
     "text": [
      "         Country                           Region  Happiness Rank  \\\n",
      "0    Switzerland                   Western Europe               1   \n",
      "1        Iceland                   Western Europe               2   \n",
      "2        Denmark                   Western Europe               3   \n",
      "3         Norway                   Western Europe               4   \n",
      "4         Canada                    North America               5   \n",
      "..           ...                              ...             ...   \n",
      "153       Rwanda               Sub-Saharan Africa             154   \n",
      "154        Benin               Sub-Saharan Africa             155   \n",
      "155        Syria  Middle East and Northern Africa             156   \n",
      "156      Burundi               Sub-Saharan Africa             157   \n",
      "157         Togo               Sub-Saharan Africa             158   \n",
      "\n",
      "     Happiness Score  Standard Error  Economy (GDP per Capita)   Family  \\\n",
      "0              7.587         0.03411                   1.39651  1.34951   \n",
      "1              7.561         0.04884                   1.30232  1.40223   \n",
      "2              7.527         0.03328                   1.32548  1.36058   \n",
      "3              7.522         0.03880                   1.45900  1.33095   \n",
      "4              7.427         0.03553                   1.32629  1.32261   \n",
      "..               ...             ...                       ...      ...   \n",
      "153            3.465         0.03464                   0.22208  0.77370   \n",
      "154            3.340         0.03656                   0.28665  0.35386   \n",
      "155            3.006         0.05015                   0.66320  0.47489   \n",
      "156            2.905         0.08658                   0.01530  0.41587   \n",
      "157            2.839         0.06727                   0.20868  0.13995   \n",
      "\n",
      "     Health (Life Expectancy)  Freedom  Trust (Government Corruption)  \\\n",
      "0                     0.94143  0.66557                        0.41978   \n",
      "1                     0.94784  0.62877                        0.14145   \n",
      "2                     0.87464  0.64938                        0.48357   \n",
      "3                     0.88521  0.66973                        0.36503   \n",
      "4                     0.90563  0.63297                        0.32957   \n",
      "..                        ...      ...                            ...   \n",
      "153                   0.42864  0.59201                        0.55191   \n",
      "154                   0.31910  0.48450                        0.08010   \n",
      "155                   0.72193  0.15684                        0.18906   \n",
      "156                   0.22396  0.11850                        0.10062   \n",
      "157                   0.28443  0.36453                        0.10731   \n",
      "\n",
      "     Generosity  Dystopia Residual first_five_letters  \n",
      "0       0.29678            2.51738             Switze  \n",
      "1       0.43630            2.70201             Icelan  \n",
      "2       0.34139            2.49204             Denmar  \n",
      "3       0.34699            2.46531             Norway  \n",
      "4       0.45811            2.45176             Canada  \n",
      "..          ...                ...                ...  \n",
      "153     0.22628            0.67042             Rwanda  \n",
      "154     0.18260            1.63328              Benin  \n",
      "155     0.47179            0.32858              Syria  \n",
      "156     0.19727            1.83302             Burund  \n",
      "157     0.16681            1.56726               Togo  \n",
      "\n",
      "[158 rows x 13 columns]\n"
     ]
    }
   ],
   "source": [
    "#Answer 10\n",
    "#Before executing this cell, execute the first cell to import the required libraries.\n",
    "\n",
    "GithubLink = ' https://raw.githubusercontent.com/dsrscientist/DSData/master/happiness_score_dataset.csv'\n",
    "dataframe1 = p.read_csv(GithubLink)\n",
    "\n",
    "dataframe1['first_five_letters'] = dataframe1['Country'].apply(lambda x: x[:6])\n",
    "print(data)"
   ]
  },
  {
   "cell_type": "markdown",
   "id": "dea7d43b",
   "metadata": {},
   "source": [
    "**Question 11**- Write a Python program to match a string that contains only upper and lowercase \n",
    "letters, numbers, and underscores."
   ]
  },
  {
   "cell_type": "code",
   "execution_count": 60,
   "id": "eda451c7",
   "metadata": {},
   "outputs": [
    {
     "data": {
      "text/plain": [
       "'Not matched!'"
      ]
     },
     "execution_count": 60,
     "metadata": {},
     "output_type": "execute_result"
    }
   ],
   "source": [
    "#Answer 11\n",
    "#Before executing this cell, execute the first cell to import the required libraries.\n",
    "\n",
    "Text11='The quick brown fox jumps over the lazy dog.'\n",
    "\n",
    "def Function11(string):\n",
    "    if re.search('^[a-zA-Z0-9_]*$',string):\n",
    "        return 'Found a match!'\n",
    "    else:\n",
    "        return('Not matched!')\n",
    "\n",
    "Function11(Text11)"
   ]
  },
  {
   "cell_type": "markdown",
   "id": "aa564eb1",
   "metadata": {},
   "source": [
    "**Question 12**- Write a Python program where a string will start with a specific number. "
   ]
  },
  {
   "cell_type": "code",
   "execution_count": 58,
   "id": "a9815187",
   "metadata": {},
   "outputs": [
    {
     "name": "stdout",
     "output_type": "stream",
     "text": [
      "Starts with specific\n"
     ]
    }
   ],
   "source": [
    "#Answer 12\n",
    "#Before executing this cell, execute the first cell to import the required libraries.\n",
    "\n",
    "Text12='567RegEx'\n",
    "num=567\n",
    "\n",
    "def Function12(string,num):\n",
    "    pattern12=re.compile(f'^{num}')\n",
    "    result12=pattern12.match(string)\n",
    "    return print('Starts with specific') if result12 else print('Does not starts with specific')\n",
    "\n",
    "Function12(Text12,num)"
   ]
  },
  {
   "cell_type": "markdown",
   "id": "08cbe979",
   "metadata": {},
   "source": [
    "**Question 13**- Write a Python program to remove leading zeros from an IP address "
   ]
  },
  {
   "cell_type": "code",
   "execution_count": 7,
   "id": "ed248e8d",
   "metadata": {},
   "outputs": [
    {
     "data": {
      "text/plain": [
       "'192.168.1.1'"
      ]
     },
     "execution_count": 7,
     "metadata": {},
     "output_type": "execute_result"
    }
   ],
   "source": [
    "#Answer 13\n",
    "#Before executing this cell, execute the first cell to import the required libraries.\n",
    "\n",
    "Text13=\"192.168.001.001\"\n",
    "\n",
    "def Function13(String):\n",
    "    pattern13=re.compile(r'\\b0+(\\d)\\b')\n",
    "    result13=pattern13.sub(r'\\1',String)\n",
    "    return result13\n",
    "\n",
    "Function13(Text13)"
   ]
  },
  {
   "cell_type": "markdown",
   "id": "cd12112a",
   "metadata": {},
   "source": [
    "**Question 14**- Write a regular expression in python to match a date string in the form of Month name \n",
    "followed by day number and year stored in a text file. \n",
    "\n",
    "**Sample text** :  ' On August 15th 1947 that India was declared independent from British colonialism, and \n",
    "the reins of control were handed over to the leaders of the Country’."
   ]
  },
  {
   "cell_type": "code",
   "execution_count": 42,
   "id": "da929242",
   "metadata": {},
   "outputs": [
    {
     "data": {
      "text/plain": [
       "['August 15th 1947']"
      ]
     },
     "execution_count": 42,
     "metadata": {},
     "output_type": "execute_result"
    }
   ],
   "source": [
    "#Answer 14\n",
    "#Before executing this cell, execute the first cell to import the required libraries.\n",
    "\n",
    "with open('textfile14.txt', 'r') as file:\n",
    "    Text14 = file.read()\n",
    "    \n",
    "def Function14(String):\n",
    "    pattern14=r'\\b([A-Z][a-z]+ \\d{1,2}(?:st|nd|rd|th)? \\d{4})\\b'\n",
    "    result14=re.findall(pattern14,Text14)\n",
    "    return result14\n",
    "\n",
    "Function14(Text14)"
   ]
  },
  {
   "cell_type": "markdown",
   "id": "f7aae13c",
   "metadata": {},
   "source": [
    "**Question 15**- Write a Python program to search some literals strings in a string.  \n",
    "\n",
    "**Sample text** : 'The quick brown fox jumps over the lazy dog.'"
   ]
  },
  {
   "cell_type": "code",
   "execution_count": 24,
   "id": "39e2ed17",
   "metadata": {},
   "outputs": [
    {
     "name": "stdout",
     "output_type": "stream",
     "text": [
      "fox - Found\n",
      "dog - Found\n",
      "horse - Not Found!\n"
     ]
    }
   ],
   "source": [
    "#Answer 15\n",
    "#Before executing this cell, execute the first cell to import the required libraries.\n",
    "\n",
    "Text15='The quick brown fox jumps over the lazy dog'\n",
    "\n",
    "def Function15(String):\n",
    "    pattern15=['fox','dog','horse']\n",
    "    for pattern in pattern15:\n",
    "        if re.search(pattern,Text15):\n",
    "            print(pattern, \"- Found\")\n",
    "        else:\n",
    "            print(pattern,\"- Not Found!\")\n",
    "    return\n",
    "    \n",
    "\n",
    "Function15(Text15)"
   ]
  },
  {
   "cell_type": "markdown",
   "id": "68db5468",
   "metadata": {},
   "source": [
    "**Question 16**- Write a Python program to search a literals string in a string and also find the location \n",
    "within the original string where the pattern occurs \n",
    "\n",
    "**Sample text** : 'The quick brown fox jumps over the lazy dog.'"
   ]
  },
  {
   "cell_type": "code",
   "execution_count": 37,
   "id": "4102477b",
   "metadata": {},
   "outputs": [
    {
     "name": "stdout",
     "output_type": "stream",
     "text": [
      "fox - Found at location 16\n"
     ]
    }
   ],
   "source": [
    "#Answer 16\n",
    "#Before executing this cell, execute the first cell to import the required libraries.\n",
    "\n",
    "Text16='The quick brown fox jumps over the lazy dog'\n",
    "\n",
    "def Function16(String):\n",
    "    pattern16='fox'\n",
    "    result16=re.search(pattern16,String)\n",
    "    if result16:\n",
    "        print(pattern16, \"- Found at location\",result16.start())\n",
    "    else:\n",
    "        print(pattern16,\"- Not Found!\")\n",
    "    return\n",
    "    \n",
    "Function16(Text16)"
   ]
  },
  {
   "cell_type": "markdown",
   "id": "a4397b16",
   "metadata": {},
   "source": [
    "**Question 17**- Write a Python program to find the substrings within a string. \n",
    "\n",
    "**Sample text** : 'Python exercises, PHP exercises, C# exercises'"
   ]
  },
  {
   "cell_type": "code",
   "execution_count": 42,
   "id": "634bea69",
   "metadata": {},
   "outputs": [
    {
     "name": "stdout",
     "output_type": "stream",
     "text": [
      "Found exercises\n",
      "Found exercises\n",
      "Found exercises\n"
     ]
    }
   ],
   "source": [
    "#Answer 17\n",
    "#Before executing this cell, execute the first cell to import the required libraries.\n",
    "\n",
    "Text17='Python exercises, PHP exercises, C# exercises'\n",
    "\n",
    "def Function17(String):\n",
    "    pattern17='exercises'\n",
    "    for result in re.findall(pattern17, String):\n",
    "        print('Found',result)    \n",
    "\n",
    "Function17(Text17)"
   ]
  },
  {
   "cell_type": "markdown",
   "id": "ef6fe27a",
   "metadata": {},
   "source": [
    "**Question 18**- Write a Python program to find the occurrence and position of the substrings within a \n",
    "string."
   ]
  },
  {
   "cell_type": "code",
   "execution_count": 76,
   "id": "e4d59f05",
   "metadata": {},
   "outputs": [
    {
     "name": "stdout",
     "output_type": "stream",
     "text": [
      "Found exercises at position 7\n",
      "Found exercises at position 22\n",
      "Found exercises at position 36\n"
     ]
    }
   ],
   "source": [
    "#Answer 18\n",
    "#Before executing this cell, execute the first cell to import the required libraries.\n",
    "\n",
    "Text18='Python exercises, PHP exercises, C# exercises'\n",
    "\n",
    "def Function18(String):\n",
    "    pattern18='exercises'\n",
    "    for result18 in re.finditer(pattern18, String):\n",
    "        Start=result18.start()\n",
    "        End=result18.end()\n",
    "        print('Found',String[Start:End],'at position',Start)    \n",
    "\n",
    "Function18(Text18)\n",
    "\n"
   ]
  },
  {
   "cell_type": "markdown",
   "id": "8169bd05",
   "metadata": {},
   "source": [
    "**Question 19**- Write a Python program to convert a date of yyyy-mm-dd format to dd-mm-yyyy \n",
    "format. "
   ]
  },
  {
   "cell_type": "code",
   "execution_count": 58,
   "id": "40049343",
   "metadata": {},
   "outputs": [
    {
     "data": {
      "text/plain": [
       "'22-05-2024'"
      ]
     },
     "execution_count": 58,
     "metadata": {},
     "output_type": "execute_result"
    }
   ],
   "source": [
    "#Answer 19\n",
    "#Before executing this cell, execute the first cell to import the required libraries.\n",
    "\n",
    "Date='2024-05-22'\n",
    "\n",
    "def Function19(string):\n",
    "    pattern19= re.compile(r'(\\d{4})-(\\d{2})-(\\d{2})')\n",
    "    result19 = pattern19.sub(r'\\3-\\2-\\1',string)\n",
    "    return result19\n",
    "\n",
    "Function19(Date)"
   ]
  },
  {
   "cell_type": "markdown",
   "id": "08b1be52",
   "metadata": {},
   "source": [
    "**Question 20**- Create a function in python to find all decimal numbers with a precision of 1 or 2 in a \n",
    "string. The use of the re.compile() method is mandatory. \n",
    "\n",
    "**Sample Text**: \"01.12 0132.123 2.31875 145.8 3.01 27.25 0.25\""
   ]
  },
  {
   "cell_type": "code",
   "execution_count": 59,
   "id": "824c985d",
   "metadata": {},
   "outputs": [
    {
     "data": {
      "text/plain": [
       "['01.12', '145.8', '3.01', '27.25', '0.25']"
      ]
     },
     "execution_count": 59,
     "metadata": {},
     "output_type": "execute_result"
    }
   ],
   "source": [
    "#Answer 20\n",
    "#Before executing this cell, execute the first cell to import the required libraries.\n",
    "\n",
    "Text20=\"01.12 0132.123 2.31875 145.8 3.01 27.25 0.25\"\n",
    "\n",
    "def Function20(String):\n",
    "    pattern20 = re.compile(r'\\b\\d+\\.\\d{1,2}\\b')\n",
    "    result20 = pattern20.findall(String)\n",
    "    return result20\n",
    "\n",
    "Function20(Text20)"
   ]
  },
  {
   "cell_type": "markdown",
   "id": "71482fa7",
   "metadata": {},
   "source": [
    "**Question 21**- Write a Python program to separate and print the numbers and their position of a given \n",
    "string. "
   ]
  },
  {
   "cell_type": "code",
   "execution_count": 65,
   "id": "affa043d",
   "metadata": {},
   "outputs": [
    {
     "name": "stdout",
     "output_type": "stream",
     "text": [
      "50 at position: 15\n",
      "30 at position: 27\n",
      "100 at position: 41\n"
     ]
    }
   ],
   "source": [
    "#Answer 21\n",
    "#Before executing this cell, execute the first cell to import the required libraries.\n",
    "\n",
    "Text21='The prices are 50 dollars, 30 euros, and 100 yen.'\n",
    "\n",
    "def Function21(String):\n",
    "    for result21 in re.finditer(\"\\d+\", String):\n",
    "        print(result21.group(0),end=\" \")\n",
    "        print(\"at position:\", result21.start())\n",
    "    return\n",
    "\n",
    "Function21(Text21)"
   ]
  },
  {
   "cell_type": "markdown",
   "id": "cd4c5ada",
   "metadata": {},
   "source": [
    "**Question 22**- Write a regular expression in python program to extract maximum/largest numeric \n",
    "value from a string. \n",
    "\n",
    "**Sample Text**:  'My marks in each semester are: 947, 896, 926, 524, 734, 950, 642'"
   ]
  },
  {
   "cell_type": "code",
   "execution_count": 74,
   "id": "e04c6644",
   "metadata": {},
   "outputs": [
    {
     "data": {
      "text/plain": [
       "950"
      ]
     },
     "execution_count": 74,
     "metadata": {},
     "output_type": "execute_result"
    }
   ],
   "source": [
    "#Answer 22 \n",
    "#Before executing this cell, execute the first cell to import the required libraries.\n",
    "\n",
    "Text22='My marks in each semester are: 947, 896, 926, 524, 734, 950, 642'\n",
    "\n",
    "def Function22(String):\n",
    "    result22 = re.findall(r'\\d+',String)\n",
    "    result22 = [int(data) for data in result22]\n",
    "    return max(result22)\n",
    "\n",
    "Function22(Text22)"
   ]
  },
  {
   "cell_type": "markdown",
   "id": "6108952b",
   "metadata": {},
   "source": [
    "**Question 23**- Create a function in python to insert spaces between words starting with capital letters. \n",
    "\n",
    "**Sample Text**: “RegularExpressionIsAnImportantTopicInPython\""
   ]
  },
  {
   "cell_type": "code",
   "execution_count": 3,
   "id": "6ced7b7e",
   "metadata": {},
   "outputs": [
    {
     "data": {
      "text/plain": [
       "'Regular Expression Is An Important Topic In Python'"
      ]
     },
     "execution_count": 3,
     "metadata": {},
     "output_type": "execute_result"
    }
   ],
   "source": [
    "#Answer 23\n",
    "#Before executing this cell, execute the first cell to import the required libraries.\n",
    "\n",
    "Text23='RegularExpressionIsAnImportantTopicInPython'\n",
    "\n",
    "def Function23(string):\n",
    "    pattern23=r'(\\w)([A-Z])'\n",
    "    result23=re.sub(pattern23,r'\\1 \\2',string)\n",
    "    return result23\n",
    "\n",
    "Function23(Text23)"
   ]
  },
  {
   "cell_type": "markdown",
   "id": "d785468e",
   "metadata": {},
   "source": [
    "**Question 24**- Python regex to find sequences of one upper case letter followed by lower case letters "
   ]
  },
  {
   "cell_type": "code",
   "execution_count": 5,
   "id": "4d6c5328",
   "metadata": {},
   "outputs": [
    {
     "data": {
      "text/plain": [
       "['This', 'Regular', 'Expression', 'Assignment']"
      ]
     },
     "execution_count": 5,
     "metadata": {},
     "output_type": "execute_result"
    }
   ],
   "source": [
    "#Answer 24\n",
    "#Before executing this cell, execute the first cell to import the required libraries.\n",
    "\n",
    "Text24='This is a Regular Expression Assignment'\n",
    "\n",
    "def Function24(string):\n",
    "    pattern24=r'[A-Z][a-z]+'\n",
    "    result24=re.findall(pattern24, string)\n",
    "    return result24\n",
    "\n",
    "Function24(Text24)"
   ]
  },
  {
   "cell_type": "markdown",
   "id": "36fd8245",
   "metadata": {},
   "source": [
    "**Question 25**- Write a Python program to remove continuous duplicate words from Sentence using \n",
    "Regular Expression. \n",
    "\n",
    "**Sample Text**: \"Hello hello world world\" "
   ]
  },
  {
   "cell_type": "code",
   "execution_count": 6,
   "id": "8d277639",
   "metadata": {},
   "outputs": [
    {
     "data": {
      "text/plain": [
       "'Hello hello world'"
      ]
     },
     "execution_count": 6,
     "metadata": {},
     "output_type": "execute_result"
    }
   ],
   "source": [
    "#Answer 25\n",
    "#Before executing this cell, execute the first cell to import the required libraries.\n",
    "\n",
    "Text25='Hello hello world world'\n",
    "\n",
    "def Function25(string):\n",
    "    pattern25 = r'\\b(\\w+)(\\s+\\1\\b)+'\n",
    "    result25 = re.sub(pattern25, r'\\1',string)\n",
    "    return result25\n",
    "\n",
    "Function25(Text25)"
   ]
  },
  {
   "cell_type": "markdown",
   "id": "2dc22deb",
   "metadata": {},
   "source": [
    "**Question 26**-  Write a python program using RegEx to accept string ending with alphanumeric \n",
    "character. "
   ]
  },
  {
   "cell_type": "code",
   "execution_count": 34,
   "id": "72701f9b",
   "metadata": {},
   "outputs": [
    {
     "data": {
      "text/plain": [
       "False"
      ]
     },
     "execution_count": 34,
     "metadata": {},
     "output_type": "execute_result"
    }
   ],
   "source": [
    "#Answer 26\n",
    "#Before executing this cell, execute the first cell to import the required libraries.\n",
    "\n",
    "Text26='RegEx10'\n",
    "\n",
    "def Function26(string):\n",
    "    pattern26 = r'\\w$'\n",
    "    result26 = re.search(pattern26,string)\n",
    "    return True if result26 else False\n",
    "\n",
    "Function26(Text26)"
   ]
  },
  {
   "cell_type": "markdown",
   "id": "0c958628",
   "metadata": {},
   "source": [
    "**Question 27**-Write a python program using RegEx to extract the hashtags. \n",
    "\n",
    "**Sample Text**:  \"\"\"RT @kapil_kausik: #Doltiwal I mean #xyzabc is \"hurt\" by #Demonetization as the same \n",
    "has rendered USELESS <ed><U+00A0><U+00BD><ed><U+00B1><U+0089> \"acquired funds\" No wo\"\"\" "
   ]
  },
  {
   "cell_type": "code",
   "execution_count": 35,
   "id": "1606091e",
   "metadata": {},
   "outputs": [
    {
     "data": {
      "text/plain": [
       "['#Doltiwal', '#xyzabc', '#Demonetization']"
      ]
     },
     "execution_count": 35,
     "metadata": {},
     "output_type": "execute_result"
    }
   ],
   "source": [
    "#Answer27\n",
    "#Before executing this cell, execute the first cell to import the required libraries.\n",
    "\n",
    "Text27= \"\"\"RT @kapil_kausik: #Doltiwal I mean #xyzabc is \"hurt\" by #Demonetization as the same has rendered USELESS <U+00A0><U+00BD><U+00B1><U+0089> \"acquired funds\" No wo\"\"\"\n",
    "\n",
    "def Function27(string):\n",
    "    result27 = re.findall(r'#\\w+', string)\n",
    "    return result27\n",
    "\n",
    "Function27(Text27)"
   ]
  },
  {
   "cell_type": "markdown",
   "id": "15abbff9",
   "metadata": {},
   "source": [
    "**Question 28**- Write a python program using RegEx to remove <U+..> like symbols \n",
    "Check the below sample text, there are strange symbols something of the sort <U+..> all over the place. \n",
    "You need to come up with a general Regex expression that will cover all such symbols. \n",
    "\n",
    "**Sample Text**: \"@Jags123456 Bharat band on \n",
    "28??<ed><U+00A0><U+00BD><ed><U+00B8><U+0082>Those who  are protesting #demonetization  are \n",
    "all different party leaders\""
   ]
  },
  {
   "cell_type": "code",
   "execution_count": 37,
   "id": "c2e5def5",
   "metadata": {},
   "outputs": [
    {
     "data": {
      "text/plain": [
       "'@Jags123456 Bharat band on 28??<ed><ed>Those who are protesting #demonetization are all different party leaders'"
      ]
     },
     "execution_count": 37,
     "metadata": {},
     "output_type": "execute_result"
    }
   ],
   "source": [
    "#Answer 28\n",
    "#Before executing this cell, execute the first cell to import the required libraries.\n",
    "\n",
    "Text28=\"@Jags123456 Bharat band on 28??<ed><U+00A0><U+00BD><ed><U+00B8><U+0082>Those who are protesting #demonetization are all different party leaders\"\n",
    "def Function28(string):\n",
    "    pattern28 =r\"<U\\+\\w{4}>\"\n",
    "    result28 = re.sub(pattern28,\"\",string)\n",
    "    return result28\n",
    "\n",
    "Function28(Text28)\n"
   ]
  },
  {
   "cell_type": "markdown",
   "id": "5d9195f3",
   "metadata": {},
   "source": [
    "**Question 29**- Write a python program to extract dates from the text stored in the text file. \n",
    "\n",
    "**Sample Text**: Ron was born on 12-09-1992 and he was admitted to school 15-12-1999."
   ]
  },
  {
   "cell_type": "code",
   "execution_count": 44,
   "id": "c912d814",
   "metadata": {},
   "outputs": [
    {
     "data": {
      "text/plain": [
       "['12-09-1992', '15-12-1999']"
      ]
     },
     "execution_count": 44,
     "metadata": {},
     "output_type": "execute_result"
    }
   ],
   "source": [
    "#Answer 29\n",
    "#Before executing this cell, execute the first cell to import the required libraries.\n",
    "\n",
    "with open('textfile29.txt', 'r') as file:\n",
    "    Text29 = file.read()\n",
    "    \n",
    "def Function29(string):\n",
    "    pattern29 = r'\\d{2}-\\d{2}-\\d{4}'\n",
    "    result29 = re.findall(pattern29, string)\n",
    "    return result29\n",
    "\n",
    "Function29(Text29)\n"
   ]
  },
  {
   "cell_type": "markdown",
   "id": "997863d3",
   "metadata": {},
   "source": [
    "**Question 30**- Create a function in python to remove all words from a string of length between 2 and \n",
    "4. \n",
    "The use of the re.compile() method is mandatory. \n",
    "\n",
    "**Sample Text**: \"The following example creates an ArrayList with a capacity of 50 elements. 4 elements are \n",
    "then added to the ArrayList and the ArrayList is trimmed accordingly.\" "
   ]
  },
  {
   "cell_type": "code",
   "execution_count": 51,
   "id": "b9b41e39",
   "metadata": {},
   "outputs": [
    {
     "data": {
      "text/plain": [
       "' following example creates  ArrayList  a capacity   elements. 4 elements   added   ArrayList   ArrayList  trimmed accordingly.'"
      ]
     },
     "execution_count": 51,
     "metadata": {},
     "output_type": "execute_result"
    }
   ],
   "source": [
    "#Answer 30\n",
    "#Before executing this cell, execute the first cell to import the required libraries.\n",
    "\n",
    "Text30=\"The following example creates an ArrayList with a capacity of 50 elements. 4 elements are then added to the ArrayList and the ArrayList is trimmed accordingly.\"\n",
    "\n",
    "def Function30(string):\n",
    "    pattern30 = re.compile(r'\\b\\w{2,4}\\b')\n",
    "    result30 = re.sub(pattern30,'', string)\n",
    "    return result30\n",
    "\n",
    "Function30(Text30)"
   ]
  }
 ],
 "metadata": {
  "kernelspec": {
   "display_name": "Python 3 (ipykernel)",
   "language": "python",
   "name": "python3"
  },
  "language_info": {
   "codemirror_mode": {
    "name": "ipython",
    "version": 3
   },
   "file_extension": ".py",
   "mimetype": "text/x-python",
   "name": "python",
   "nbconvert_exporter": "python",
   "pygments_lexer": "ipython3",
   "version": "3.11.5"
  }
 },
 "nbformat": 4,
 "nbformat_minor": 5
}
